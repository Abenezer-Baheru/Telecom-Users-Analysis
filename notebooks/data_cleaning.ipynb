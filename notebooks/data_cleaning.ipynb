{
 "cells": [
  {
   "cell_type": "code",
   "execution_count": 2,
   "metadata": {},
   "outputs": [],
   "source": [
    "import pandas as pd\n",
    "import numpy as np\n",
    "import matplotlib.pyplot as plt \n",
    "import seaborn as sns"
   ]
  },
  {
   "cell_type": "code",
   "execution_count": 4,
   "metadata": {},
   "outputs": [],
   "source": [
    "# Load the data \n",
    "data_path = '../src/data/telecom_users_data_source.csv' \n",
    "df = pd.read_csv(data_path)"
   ]
  },
  {
   "cell_type": "code",
   "execution_count": 6,
   "metadata": {},
   "outputs": [
    {
     "name": "stdout",
     "output_type": "stream",
     "text": [
      "Shape of the DataFrame: (150001, 55)\n"
     ]
    }
   ],
   "source": [
    "# Check the shape of the data \n",
    "print(\"Shape of the DataFrame:\", df.shape)"
   ]
  },
  {
   "cell_type": "code",
   "execution_count": 7,
   "metadata": {},
   "outputs": [
    {
     "name": "stdout",
     "output_type": "stream",
     "text": [
      "\n",
      "Summary of the DataFrame:\n",
      "<class 'pandas.core.frame.DataFrame'>\n",
      "RangeIndex: 150001 entries, 0 to 150000\n",
      "Data columns (total 55 columns):\n",
      " #   Column                                    Non-Null Count   Dtype  \n",
      "---  ------                                    --------------   -----  \n",
      " 0   Bearer Id                                 149010 non-null  float64\n",
      " 1   Start                                     150000 non-null  object \n",
      " 2   Start ms                                  150000 non-null  float64\n",
      " 3   End                                       150000 non-null  object \n",
      " 4   End ms                                    150000 non-null  float64\n",
      " 5   Dur. (ms)                                 150000 non-null  float64\n",
      " 6   IMSI                                      149431 non-null  float64\n",
      " 7   MSISDN/Number                             148935 non-null  float64\n",
      " 8   IMEI                                      149429 non-null  float64\n",
      " 9   Last Location Name                        148848 non-null  object \n",
      " 10  Avg RTT DL (ms)                           122172 non-null  float64\n",
      " 11  Avg RTT UL (ms)                           122189 non-null  float64\n",
      " 12  Avg Bearer TP DL (kbps)                   150000 non-null  float64\n",
      " 13  Avg Bearer TP UL (kbps)                   150000 non-null  float64\n",
      " 14  TCP DL Retrans. Vol (Bytes)               61855 non-null   float64\n",
      " 15  TCP UL Retrans. Vol (Bytes)               53352 non-null   float64\n",
      " 16  DL TP < 50 Kbps (%)                       149247 non-null  float64\n",
      " 17  50 Kbps < DL TP < 250 Kbps (%)            149247 non-null  float64\n",
      " 18  250 Kbps < DL TP < 1 Mbps (%)             149247 non-null  float64\n",
      " 19  DL TP > 1 Mbps (%)                        149247 non-null  float64\n",
      " 20  UL TP < 10 Kbps (%)                       149209 non-null  float64\n",
      " 21  10 Kbps < UL TP < 50 Kbps (%)             149209 non-null  float64\n",
      " 22  50 Kbps < UL TP < 300 Kbps (%)            149209 non-null  float64\n",
      " 23  UL TP > 300 Kbps (%)                      149209 non-null  float64\n",
      " 24  HTTP DL (Bytes)                           68527 non-null   float64\n",
      " 25  HTTP UL (Bytes)                           68191 non-null   float64\n",
      " 26  Activity Duration DL (ms)                 150000 non-null  float64\n",
      " 27  Activity Duration UL (ms)                 150000 non-null  float64\n",
      " 28  Dur. (ms).1                               150000 non-null  float64\n",
      " 29  Handset Manufacturer                      149429 non-null  object \n",
      " 30  Handset Type                              149429 non-null  object \n",
      " 31  Nb of sec with 125000B < Vol DL           52463 non-null   float64\n",
      " 32  Nb of sec with 1250B < Vol UL < 6250B     57107 non-null   float64\n",
      " 33  Nb of sec with 31250B < Vol DL < 125000B  56415 non-null   float64\n",
      " 34  Nb of sec with 37500B < Vol UL            19747 non-null   float64\n",
      " 35  Nb of sec with 6250B < Vol DL < 31250B    61684 non-null   float64\n",
      " 36  Nb of sec with 6250B < Vol UL < 37500B    38158 non-null   float64\n",
      " 37  Nb of sec with Vol DL < 6250B             149246 non-null  float64\n",
      " 38  Nb of sec with Vol UL < 1250B             149208 non-null  float64\n",
      " 39  Social Media DL (Bytes)                   150001 non-null  float64\n",
      " 40  Social Media UL (Bytes)                   150001 non-null  float64\n",
      " 41  Google DL (Bytes)                         150001 non-null  float64\n",
      " 42  Google UL (Bytes)                         150001 non-null  float64\n",
      " 43  Email DL (Bytes)                          150001 non-null  float64\n",
      " 44  Email UL (Bytes)                          150001 non-null  float64\n",
      " 45  Youtube DL (Bytes)                        150001 non-null  float64\n",
      " 46  Youtube UL (Bytes)                        150001 non-null  float64\n",
      " 47  Netflix DL (Bytes)                        150001 non-null  float64\n",
      " 48  Netflix UL (Bytes)                        150001 non-null  float64\n",
      " 49  Gaming DL (Bytes)                         150001 non-null  float64\n",
      " 50  Gaming UL (Bytes)                         150001 non-null  float64\n",
      " 51  Other DL (Bytes)                          150001 non-null  float64\n",
      " 52  Other UL (Bytes)                          150001 non-null  float64\n",
      " 53  Total UL (Bytes)                          150000 non-null  float64\n",
      " 54  Total DL (Bytes)                          150000 non-null  float64\n",
      "dtypes: float64(50), object(5)\n",
      "memory usage: 62.9+ MB\n"
     ]
    }
   ],
   "source": [
    "# Get a summary of the data \n",
    "print(\"\\nSummary of the DataFrame:\") \n",
    "df.info()"
   ]
  },
  {
   "cell_type": "code",
   "execution_count": 9,
   "metadata": {},
   "outputs": [
    {
     "data": {
      "text/html": [
       "<div>\n",
       "<style scoped>\n",
       "    .dataframe tbody tr th:only-of-type {\n",
       "        vertical-align: middle;\n",
       "    }\n",
       "\n",
       "    .dataframe tbody tr th {\n",
       "        vertical-align: top;\n",
       "    }\n",
       "\n",
       "    .dataframe thead th {\n",
       "        text-align: right;\n",
       "    }\n",
       "</style>\n",
       "<table border=\"1\" class=\"dataframe\">\n",
       "  <thead>\n",
       "    <tr style=\"text-align: right;\">\n",
       "      <th></th>\n",
       "      <th>Bearer Id</th>\n",
       "      <th>Start</th>\n",
       "      <th>Start ms</th>\n",
       "      <th>End</th>\n",
       "      <th>End ms</th>\n",
       "      <th>Dur. (ms)</th>\n",
       "      <th>IMSI</th>\n",
       "      <th>MSISDN/Number</th>\n",
       "      <th>IMEI</th>\n",
       "      <th>Last Location Name</th>\n",
       "      <th>...</th>\n",
       "      <th>Youtube DL (Bytes)</th>\n",
       "      <th>Youtube UL (Bytes)</th>\n",
       "      <th>Netflix DL (Bytes)</th>\n",
       "      <th>Netflix UL (Bytes)</th>\n",
       "      <th>Gaming DL (Bytes)</th>\n",
       "      <th>Gaming UL (Bytes)</th>\n",
       "      <th>Other DL (Bytes)</th>\n",
       "      <th>Other UL (Bytes)</th>\n",
       "      <th>Total UL (Bytes)</th>\n",
       "      <th>Total DL (Bytes)</th>\n",
       "    </tr>\n",
       "  </thead>\n",
       "  <tbody>\n",
       "    <tr>\n",
       "      <th>0</th>\n",
       "      <td>1.311448e+19</td>\n",
       "      <td>4/4/2019 12:01</td>\n",
       "      <td>770.0</td>\n",
       "      <td>4/25/2019 14:35</td>\n",
       "      <td>662.0</td>\n",
       "      <td>1823652.0</td>\n",
       "      <td>2.082014e+14</td>\n",
       "      <td>3.366496e+10</td>\n",
       "      <td>3.552121e+13</td>\n",
       "      <td>9.16456699548519E+015</td>\n",
       "      <td>...</td>\n",
       "      <td>15854611.0</td>\n",
       "      <td>2501332.0</td>\n",
       "      <td>8198936.0</td>\n",
       "      <td>9656251.0</td>\n",
       "      <td>278082303.0</td>\n",
       "      <td>14344150.0</td>\n",
       "      <td>171744450.0</td>\n",
       "      <td>8814393.0</td>\n",
       "      <td>36749741.0</td>\n",
       "      <td>308879636.0</td>\n",
       "    </tr>\n",
       "    <tr>\n",
       "      <th>1</th>\n",
       "      <td>1.311448e+19</td>\n",
       "      <td>4/9/2019 13:04</td>\n",
       "      <td>235.0</td>\n",
       "      <td>4/25/2019 8:15</td>\n",
       "      <td>606.0</td>\n",
       "      <td>1365104.0</td>\n",
       "      <td>2.082019e+14</td>\n",
       "      <td>3.368185e+10</td>\n",
       "      <td>3.579401e+13</td>\n",
       "      <td>L77566A</td>\n",
       "      <td>...</td>\n",
       "      <td>20247395.0</td>\n",
       "      <td>19111729.0</td>\n",
       "      <td>18338413.0</td>\n",
       "      <td>17227132.0</td>\n",
       "      <td>608750074.0</td>\n",
       "      <td>1170709.0</td>\n",
       "      <td>526904238.0</td>\n",
       "      <td>15055145.0</td>\n",
       "      <td>53800391.0</td>\n",
       "      <td>653384965.0</td>\n",
       "    </tr>\n",
       "    <tr>\n",
       "      <th>2</th>\n",
       "      <td>1.311448e+19</td>\n",
       "      <td>4/9/2019 17:42</td>\n",
       "      <td>1.0</td>\n",
       "      <td>4/25/2019 11:58</td>\n",
       "      <td>652.0</td>\n",
       "      <td>1361762.0</td>\n",
       "      <td>2.082003e+14</td>\n",
       "      <td>3.376063e+10</td>\n",
       "      <td>3.528151e+13</td>\n",
       "      <td>D42335A</td>\n",
       "      <td>...</td>\n",
       "      <td>19725661.0</td>\n",
       "      <td>14699576.0</td>\n",
       "      <td>17587794.0</td>\n",
       "      <td>6163408.0</td>\n",
       "      <td>229584621.0</td>\n",
       "      <td>395630.0</td>\n",
       "      <td>410692588.0</td>\n",
       "      <td>4215763.0</td>\n",
       "      <td>27883638.0</td>\n",
       "      <td>279807335.0</td>\n",
       "    </tr>\n",
       "    <tr>\n",
       "      <th>3</th>\n",
       "      <td>1.311448e+19</td>\n",
       "      <td>4/10/2019 0:31</td>\n",
       "      <td>486.0</td>\n",
       "      <td>4/25/2019 7:36</td>\n",
       "      <td>171.0</td>\n",
       "      <td>1321509.0</td>\n",
       "      <td>2.082014e+14</td>\n",
       "      <td>3.375034e+10</td>\n",
       "      <td>3.535661e+13</td>\n",
       "      <td>T21824A</td>\n",
       "      <td>...</td>\n",
       "      <td>21388122.0</td>\n",
       "      <td>15146643.0</td>\n",
       "      <td>13994646.0</td>\n",
       "      <td>1097942.0</td>\n",
       "      <td>799538153.0</td>\n",
       "      <td>10849722.0</td>\n",
       "      <td>749039933.0</td>\n",
       "      <td>12797283.0</td>\n",
       "      <td>43324218.0</td>\n",
       "      <td>846028530.0</td>\n",
       "    </tr>\n",
       "    <tr>\n",
       "      <th>4</th>\n",
       "      <td>1.311448e+19</td>\n",
       "      <td>4/12/2019 20:10</td>\n",
       "      <td>565.0</td>\n",
       "      <td>4/25/2019 10:40</td>\n",
       "      <td>954.0</td>\n",
       "      <td>1089009.0</td>\n",
       "      <td>2.082014e+14</td>\n",
       "      <td>3.369980e+10</td>\n",
       "      <td>3.540701e+13</td>\n",
       "      <td>D88865A</td>\n",
       "      <td>...</td>\n",
       "      <td>15259380.0</td>\n",
       "      <td>18962873.0</td>\n",
       "      <td>17124581.0</td>\n",
       "      <td>415218.0</td>\n",
       "      <td>527707248.0</td>\n",
       "      <td>3529801.0</td>\n",
       "      <td>550709500.0</td>\n",
       "      <td>13910322.0</td>\n",
       "      <td>38542814.0</td>\n",
       "      <td>569138589.0</td>\n",
       "    </tr>\n",
       "  </tbody>\n",
       "</table>\n",
       "<p>5 rows × 55 columns</p>\n",
       "</div>"
      ],
      "text/plain": [
       "      Bearer Id            Start  Start ms              End  End ms  \\\n",
       "0  1.311448e+19   4/4/2019 12:01     770.0  4/25/2019 14:35   662.0   \n",
       "1  1.311448e+19   4/9/2019 13:04     235.0   4/25/2019 8:15   606.0   \n",
       "2  1.311448e+19   4/9/2019 17:42       1.0  4/25/2019 11:58   652.0   \n",
       "3  1.311448e+19   4/10/2019 0:31     486.0   4/25/2019 7:36   171.0   \n",
       "4  1.311448e+19  4/12/2019 20:10     565.0  4/25/2019 10:40   954.0   \n",
       "\n",
       "   Dur. (ms)          IMSI  MSISDN/Number          IMEI  \\\n",
       "0  1823652.0  2.082014e+14   3.366496e+10  3.552121e+13   \n",
       "1  1365104.0  2.082019e+14   3.368185e+10  3.579401e+13   \n",
       "2  1361762.0  2.082003e+14   3.376063e+10  3.528151e+13   \n",
       "3  1321509.0  2.082014e+14   3.375034e+10  3.535661e+13   \n",
       "4  1089009.0  2.082014e+14   3.369980e+10  3.540701e+13   \n",
       "\n",
       "      Last Location Name  ...  Youtube DL (Bytes)  Youtube UL (Bytes)  \\\n",
       "0  9.16456699548519E+015  ...          15854611.0           2501332.0   \n",
       "1                L77566A  ...          20247395.0          19111729.0   \n",
       "2                D42335A  ...          19725661.0          14699576.0   \n",
       "3                T21824A  ...          21388122.0          15146643.0   \n",
       "4                D88865A  ...          15259380.0          18962873.0   \n",
       "\n",
       "   Netflix DL (Bytes)  Netflix UL (Bytes)  Gaming DL (Bytes)  \\\n",
       "0           8198936.0           9656251.0        278082303.0   \n",
       "1          18338413.0          17227132.0        608750074.0   \n",
       "2          17587794.0           6163408.0        229584621.0   \n",
       "3          13994646.0           1097942.0        799538153.0   \n",
       "4          17124581.0            415218.0        527707248.0   \n",
       "\n",
       "   Gaming UL (Bytes)  Other DL (Bytes)  Other UL (Bytes)  Total UL (Bytes)  \\\n",
       "0         14344150.0       171744450.0         8814393.0        36749741.0   \n",
       "1          1170709.0       526904238.0        15055145.0        53800391.0   \n",
       "2           395630.0       410692588.0         4215763.0        27883638.0   \n",
       "3         10849722.0       749039933.0        12797283.0        43324218.0   \n",
       "4          3529801.0       550709500.0        13910322.0        38542814.0   \n",
       "\n",
       "   Total DL (Bytes)  \n",
       "0       308879636.0  \n",
       "1       653384965.0  \n",
       "2       279807335.0  \n",
       "3       846028530.0  \n",
       "4       569138589.0  \n",
       "\n",
       "[5 rows x 55 columns]"
      ]
     },
     "execution_count": 9,
     "metadata": {},
     "output_type": "execute_result"
    }
   ],
   "source": [
    "# Inspect the data \n",
    "df.head()"
   ]
  },
  {
   "cell_type": "code",
   "execution_count": 10,
   "metadata": {},
   "outputs": [
    {
     "name": "stdout",
     "output_type": "stream",
     "text": [
      "Number of duplicate rows: 0\n"
     ]
    }
   ],
   "source": [
    "# Check for duplicates\n",
    "duplicates = df.duplicated().sum()\n",
    "print(f'Number of duplicate rows: {duplicates}')"
   ]
  },
  {
   "cell_type": "code",
   "execution_count": 11,
   "metadata": {},
   "outputs": [
    {
     "name": "stdout",
     "output_type": "stream",
     "text": [
      "Columns with unique values:\n",
      "[]\n"
     ]
    }
   ],
   "source": [
    "# Identify columns with unique values\n",
    "unique_columns = [col for col in df.columns if df[col].nunique() == len(df)]\n",
    "\n",
    "# Display the columns with unique values\n",
    "print(\"Columns with unique values:\")\n",
    "print(unique_columns)"
   ]
  },
  {
   "cell_type": "code",
   "execution_count": 12,
   "metadata": {},
   "outputs": [
    {
     "name": "stdout",
     "output_type": "stream",
     "text": [
      "Number of duplicate 'Bearer Id' values except its frist row: 15292\n",
      "Number of duplicate 'Bearer Id' values: 27041\n",
      "Number of duplicate 'MSISDN/Number' values except its frist row: 43144\n",
      "Number of duplicate 'MSISDN/Number' rows: 72270\n",
      "Number of duplicate 'IMEI' values except its frist row: 42730\n",
      "Number of duplicate 'IMEI' rows: 71905\n"
     ]
    }
   ],
   "source": [
    "# Check for duplicate values in 'Bearer Id' \n",
    "duplicate_bearer_ids = df['Bearer Id'].duplicated().sum() \n",
    "print(f\"Number of duplicate 'Bearer Id' values except its frist row: {duplicate_bearer_ids}\")\n",
    "\n",
    "# Identify duplicate rows based on 'Bearer Id'\n",
    "duplicate_rows = df[df.duplicated(subset='Bearer Id', keep=False)]\n",
    "print(f\"Number of duplicate 'Bearer Id' values: {duplicate_rows.shape[0]}\")\n",
    "\n",
    "# Check for duplicate values in 'MSISDN/Number'\n",
    "duplicate_msisdn = df['MSISDN/Number'].duplicated().sum()\n",
    "print(f\"Number of duplicate 'MSISDN/Number' values except its frist row: {duplicate_msisdn}\")\n",
    "\n",
    "# Identify duplicate rows based on 'MSISDN/Number'\n",
    "duplicate_rows = df[df.duplicated(subset='MSISDN/Number', keep=False)]\n",
    "print(f\"Number of duplicate 'MSISDN/Number' rows: {duplicate_rows.shape[0]}\")\n",
    "\n",
    "# Check for duplicate values in 'IMEI'\n",
    "duplicate_imei = df['IMEI'].duplicated().sum()\n",
    "print(f\"Number of duplicate 'IMEI' values except its frist row: {duplicate_imei}\")\n",
    "\n",
    "# Identify duplicate rows based on 'IMEI'\n",
    "duplicate_rows_imei = df[df.duplicated(subset='IMEI', keep=False)]\n",
    "print(f\"Number of duplicate 'IMEI' rows: {duplicate_rows_imei.shape[0]}\")"
   ]
  },
  {
   "cell_type": "markdown",
   "metadata": {},
   "source": [
    "#### Handling the missing Values"
   ]
  },
  {
   "cell_type": "code",
   "execution_count": 13,
   "metadata": {},
   "outputs": [
    {
     "data": {
      "text/plain": [
       "Bearer Id                                      991\n",
       "Start                                            1\n",
       "Start ms                                         1\n",
       "End                                              1\n",
       "End ms                                           1\n",
       "Dur. (ms)                                        1\n",
       "IMSI                                           570\n",
       "MSISDN/Number                                 1066\n",
       "IMEI                                           572\n",
       "Last Location Name                            1153\n",
       "Avg RTT DL (ms)                              27829\n",
       "Avg RTT UL (ms)                              27812\n",
       "Avg Bearer TP DL (kbps)                          1\n",
       "Avg Bearer TP UL (kbps)                          1\n",
       "TCP DL Retrans. Vol (Bytes)                  88146\n",
       "TCP UL Retrans. Vol (Bytes)                  96649\n",
       "DL TP < 50 Kbps (%)                            754\n",
       "50 Kbps < DL TP < 250 Kbps (%)                 754\n",
       "250 Kbps < DL TP < 1 Mbps (%)                  754\n",
       "DL TP > 1 Mbps (%)                             754\n",
       "UL TP < 10 Kbps (%)                            792\n",
       "10 Kbps < UL TP < 50 Kbps (%)                  792\n",
       "50 Kbps < UL TP < 300 Kbps (%)                 792\n",
       "UL TP > 300 Kbps (%)                           792\n",
       "HTTP DL (Bytes)                              81474\n",
       "HTTP UL (Bytes)                              81810\n",
       "Activity Duration DL (ms)                        1\n",
       "Activity Duration UL (ms)                        1\n",
       "Dur. (ms).1                                      1\n",
       "Handset Manufacturer                           572\n",
       "Handset Type                                   572\n",
       "Nb of sec with 125000B < Vol DL              97538\n",
       "Nb of sec with 1250B < Vol UL < 6250B        92894\n",
       "Nb of sec with 31250B < Vol DL < 125000B     93586\n",
       "Nb of sec with 37500B < Vol UL              130254\n",
       "Nb of sec with 6250B < Vol DL < 31250B       88317\n",
       "Nb of sec with 6250B < Vol UL < 37500B      111843\n",
       "Nb of sec with Vol DL < 6250B                  755\n",
       "Nb of sec with Vol UL < 1250B                  793\n",
       "Social Media DL (Bytes)                          0\n",
       "Social Media UL (Bytes)                          0\n",
       "Google DL (Bytes)                                0\n",
       "Google UL (Bytes)                                0\n",
       "Email DL (Bytes)                                 0\n",
       "Email UL (Bytes)                                 0\n",
       "Youtube DL (Bytes)                               0\n",
       "Youtube UL (Bytes)                               0\n",
       "Netflix DL (Bytes)                               0\n",
       "Netflix UL (Bytes)                               0\n",
       "Gaming DL (Bytes)                                0\n",
       "Gaming UL (Bytes)                                0\n",
       "Other DL (Bytes)                                 0\n",
       "Other UL (Bytes)                                 0\n",
       "Total UL (Bytes)                                 1\n",
       "Total DL (Bytes)                                 1\n",
       "dtype: int64"
      ]
     },
     "execution_count": 13,
     "metadata": {},
     "output_type": "execute_result"
    }
   ],
   "source": [
    "# Check for missing values \n",
    "missing_values = df.isnull().sum() \n",
    "missing_values"
   ]
  },
  {
   "cell_type": "code",
   "execution_count": 14,
   "metadata": {},
   "outputs": [
    {
     "data": {
      "text/plain": [
       "Bearer Id                                    0.660662\n",
       "Start                                        0.000667\n",
       "Start ms                                     0.000667\n",
       "End                                          0.000667\n",
       "End ms                                       0.000667\n",
       "Dur. (ms)                                    0.000667\n",
       "IMSI                                         0.379997\n",
       "MSISDN/Number                                0.710662\n",
       "IMEI                                         0.381331\n",
       "Last Location Name                           0.768662\n",
       "Avg RTT DL (ms)                             18.552543\n",
       "Avg RTT UL (ms)                             18.541210\n",
       "Avg Bearer TP DL (kbps)                      0.000667\n",
       "Avg Bearer TP UL (kbps)                      0.000667\n",
       "TCP DL Retrans. Vol (Bytes)                 58.763608\n",
       "TCP UL Retrans. Vol (Bytes)                 64.432237\n",
       "DL TP < 50 Kbps (%)                          0.502663\n",
       "50 Kbps < DL TP < 250 Kbps (%)               0.502663\n",
       "250 Kbps < DL TP < 1 Mbps (%)                0.502663\n",
       "DL TP > 1 Mbps (%)                           0.502663\n",
       "UL TP < 10 Kbps (%)                          0.527996\n",
       "10 Kbps < UL TP < 50 Kbps (%)                0.527996\n",
       "50 Kbps < UL TP < 300 Kbps (%)               0.527996\n",
       "UL TP > 300 Kbps (%)                         0.527996\n",
       "HTTP DL (Bytes)                             54.315638\n",
       "HTTP UL (Bytes)                             54.539636\n",
       "Activity Duration DL (ms)                    0.000667\n",
       "Activity Duration UL (ms)                    0.000667\n",
       "Dur. (ms).1                                  0.000667\n",
       "Handset Manufacturer                         0.381331\n",
       "Handset Type                                 0.381331\n",
       "Nb of sec with 125000B < Vol DL             65.024900\n",
       "Nb of sec with 1250B < Vol UL < 6250B       61.928920\n",
       "Nb of sec with 31250B < Vol DL < 125000B    62.390251\n",
       "Nb of sec with 37500B < Vol UL              86.835421\n",
       "Nb of sec with 6250B < Vol DL < 31250B      58.877607\n",
       "Nb of sec with 6250B < Vol UL < 37500B      74.561503\n",
       "Nb of sec with Vol DL < 6250B                0.503330\n",
       "Nb of sec with Vol UL < 1250B                0.528663\n",
       "Total UL (Bytes)                             0.000667\n",
       "Total DL (Bytes)                             0.000667\n",
       "dtype: float64"
      ]
     },
     "execution_count": 14,
     "metadata": {},
     "output_type": "execute_result"
    }
   ],
   "source": [
    "# Calculate the percentage of missing values for each column\n",
    "missing_percentage = df.isnull().mean() * 100\n",
    "\n",
    "# Filter columns with missing values\n",
    "missing_percentage = missing_percentage[missing_percentage > 0]\n",
    "\n",
    "# Display the columns with their missing value percentages\n",
    "missing_percentage"
   ]
  },
  {
   "cell_type": "code",
   "execution_count": 15,
   "metadata": {},
   "outputs": [],
   "source": [
    "# Remove duplicate Bearer Id values \n",
    "df = df.drop_duplicates(subset='Bearer Id', keep='first')"
   ]
  },
  {
   "cell_type": "code",
   "execution_count": 17,
   "metadata": {},
   "outputs": [],
   "source": [
    "# Remove columns with high missing values (more than 50%)\n",
    "high_missing_cols = [\n",
    "    'HTTP DL (Bytes)', 'HTTP UL (Bytes)', 'Nb of sec with 125000B < Vol DL', \n",
    "    'Nb of sec with 1250B < Vol UL < 6250B', 'Nb of sec with 31250B < Vol DL < 125000B', \n",
    "    'Nb of sec with 37500B < Vol UL', 'Nb of sec with 6250B < Vol DL < 31250B', \n",
    "    'Nb of sec with 6250B < Vol UL < 37500B'\n",
    "]\n",
    "df.drop(columns=high_missing_cols, inplace=True)"
   ]
  },
  {
   "cell_type": "code",
   "execution_count": 20,
   "metadata": {},
   "outputs": [],
   "source": [
    "# Remove rows with missing values for specified columns \n",
    "remove_missing_cols = [ \n",
    "    'Last Location Name','Bearer Id','IMSI','MSISDN/Number','IMEI','Dur. (ms)', 'DL TP < 50 Kbps (%)', '50 Kbps < DL TP < 250 Kbps (%)', '250 Kbps < DL TP < 1 Mbps (%)', 'DL TP > 1 Mbps (%)', 'UL TP < 10 Kbps (%)', '10 Kbps < UL TP < 50 Kbps (%)', '50 Kbps < UL TP < 300 Kbps (%)', 'UL TP > 300 Kbps (%)', 'Start', 'Start ms', 'End', 'End ms', 'Nb of sec with Vol DL < 6250B', 'Nb of sec with Vol UL < 1250B' ] \n",
    "df.dropna(subset=remove_missing_cols, inplace=True)"
   ]
  },
  {
   "cell_type": "code",
   "execution_count": 22,
   "metadata": {},
   "outputs": [
    {
     "data": {
      "image/png": "[encoded data removed]",
      "text/plain": [
       "<Figure size 1500x1000 with 4 Axes>"
      ]
     },
     "metadata": {},
     "output_type": "display_data"
    }
   ],
   "source": [
    "# Plotting the frequency distributions in one figure with four subplots\n",
    "fig, axes = plt.subplots(2, 2, figsize=(15, 10))\n",
    "\n",
    "sns.histplot(df['Avg RTT DL (ms)'], bins=30, kde=True, ax=axes[0, 0])\n",
    "axes[0, 0].set_title('Frequency Distribution of Avg RTT DL (ms)')\n",
    "axes[0, 0].set_xlabel('Avg RTT DL (ms)')\n",
    "axes[0, 0].set_ylabel('Frequency')\n",
    "\n",
    "sns.histplot(df['Avg RTT UL (ms)'], bins=30, kde=True, ax=axes[0, 1])\n",
    "axes[0, 1].set_title('Frequency Distribution of Avg RTT UL (ms)')\n",
    "axes[0, 1].set_xlabel('Avg RTT UL (ms)')\n",
    "axes[0, 1].set_ylabel('Frequency')\n",
    "\n",
    "sns.histplot(df['TCP DL Retrans. Vol (Bytes)'], bins=30, kde=True, ax=axes[1, 0])\n",
    "axes[1, 0].set_title('Frequency Distribution of TCP DL Retrans. Vol (Bytes)')\n",
    "axes[1, 0].set_xlabel('TCP DL Retrans. Vol (Bytes)')\n",
    "axes[1, 0].set_ylabel('Frequency')\n",
    "\n",
    "sns.histplot(df['TCP UL Retrans. Vol (Bytes)'], bins=30, kde=True, ax=axes[1, 1])\n",
    "axes[1, 1].set_title('Frequency Distribution of TCP UL Retrans. Vol (Bytes)')\n",
    "axes[1, 1].set_xlabel('TCP UL Retrans. Vol (Bytes)')\n",
    "axes[1, 1].set_ylabel('Frequency')\n",
    "\n",
    "plt.tight_layout()\n",
    "plt.show()"
   ]
  },
  {
   "cell_type": "code",
   "execution_count": 23,
   "metadata": {},
   "outputs": [
    {
     "name": "stdout",
     "output_type": "stream",
     "text": [
      "Missing values replaced with the mean for the specified columns.\n"
     ]
    }
   ],
   "source": [
    "# Replace missing values with the mean for the specified columns\n",
    "df['Avg RTT DL (ms)'] = df['Avg RTT DL (ms)'].fillna(df['Avg RTT DL (ms)'].mean())\n",
    "df['Avg RTT UL (ms)'] = df['Avg RTT UL (ms)'].fillna(df['Avg RTT UL (ms)'].mean())\n",
    "df['TCP DL Retrans. Vol (Bytes)'] = df['TCP DL Retrans. Vol (Bytes)'].fillna(df['TCP DL Retrans. Vol (Bytes)'].mean())\n",
    "df['TCP UL Retrans. Vol (Bytes)'] = df['TCP UL Retrans. Vol (Bytes)'].fillna(df['TCP UL Retrans. Vol (Bytes)'].mean())\n",
    "\n",
    "print(\"Missing values replaced with the mean for the specified columns.\")"
   ]
  },
  {
   "cell_type": "code",
   "execution_count": 24,
   "metadata": {},
   "outputs": [],
   "source": [
    "# Mode Imputation for Categorical Columns \n",
    "categorical_cols = ['Handset Manufacturer', 'Handset Type'] \n",
    "df = df.assign(**{col: df[col].fillna(df[col].mode()[0]) for col in categorical_cols})"
   ]
  },
  {
   "cell_type": "code",
   "execution_count": 29,
   "metadata": {},
   "outputs": [
    {
     "name": "stdout",
     "output_type": "stream",
     "text": [
      "Series([], dtype: int64)\n"
     ]
    }
   ],
   "source": [
    "# Verify that there are no more missing values\n",
    "missing_values_after = df.isnull().sum()\n",
    "print(missing_values_after[missing_values_after > 0])"
   ]
  },
  {
   "cell_type": "code",
   "execution_count": 27,
   "metadata": {},
   "outputs": [
    {
     "name": "stdout",
     "output_type": "stream",
     "text": [
      "Cleaned data saved to ../src/data/cleanedTelecomUsersData.csv\n"
     ]
    }
   ],
   "source": [
    "# Save the cleaned data to a CSV file\n",
    "cleaned_data_path = '../src/data/cleanedTelecomUsersData.csv'\n",
    "df.to_csv(cleaned_data_path, index=False)\n",
    "print(f\"Cleaned data saved to {cleaned_data_path}\")"
   ]
  },
  {
   "cell_type": "code",
   "execution_count": 28,
   "metadata": {},
   "outputs": [
    {
     "name": "stdout",
     "output_type": "stream",
     "text": [
      "Shape of the DataFrame: (133130, 47)\n"
     ]
    }
   ],
   "source": [
    "# Check the shape of the data \n",
    "print(\"Shape of the DataFrame:\", df.shape)"
   ]
  },
  {
   "cell_type": "code",
   "execution_count": 30,
   "metadata": {},
   "outputs": [
    {
     "name": "stdout",
     "output_type": "stream",
     "text": [
      "The value 'missing_MSISDN/Number' does not exist in the MSISDN/Number column.\n"
     ]
    }
   ],
   "source": [
    "# Check if there is a value of \"missing_MSISDN/Number\" in the MSISDN/Number column\n",
    "missing_value_exists = \"missing_MSISDN/Number\" in df['MSISDN/Number'].values\n",
    "\n",
    "if missing_value_exists:\n",
    "    print(\"The value 'missing_MSISDN/Number' exists in the MSISDN/Number column.\")\n",
    "else:\n",
    "    print(\"The value 'missing_MSISDN/Number' does not exist in the MSISDN/Number column.\")"
   ]
  },
  {
   "cell_type": "code",
   "execution_count": null,
   "metadata": {},
   "outputs": [],
   "source": []
  }
 ],
 "metadata": {
  "kernelspec": {
   "display_name": ".venv",
   "language": "python",
   "name": "python3"
  },
  "language_info": {
   "codemirror_mode": {
    "name": "ipython",
    "version": 3
   },
   "file_extension": ".py",
   "mimetype": "text/x-python",
   "name": "python",
   "nbconvert_exporter": "python",
   "pygments_lexer": "ipython3",
   "version": "3.12.7"
  }
 },
 "nbformat": 4,
 "nbformat_minor": 2
}
